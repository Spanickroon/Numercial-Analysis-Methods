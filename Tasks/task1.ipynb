{
 "cells": [
  {
   "cell_type": "markdown",
   "metadata": {},
   "source": [
    "#  Лабораторная работа 1\n",
    "##  Кознев Никита (Вариант 8)\n",
    "### РЕШЕНИЕ КРАЕВЫХ ЗАДАЧ МЕТОДОМ РАЗНОСТНЫХ АППРОКСИМАЦИЙ\n",
    "### Цель:\n",
    "\n",
    "+ изучить метод разностных аппроксимаций, составить алгоритм метода\n",
    "    и программу их реализации, получить численное решение заданной краевой задачи;\n",
    "    \n",
    "+ составить алгоритм решения краевых задач указанными методами, применимыми для организации вычислений на ПЭВМ;\n",
    "\n",
    "+ составить программу решения краевых задач по разработанному алгоритму;\n",
    "\n",
    "+ выполнить тестовые примеры и проверить правильность работы программ.\n",
    "\n",
    "### Задание\n",
    "\n",
    "Составить разностную схему и получить численное решение краевой за-\n",
    "дачи с точностью **10^(-3)**:\n",
    "− 1 ≤ x ≤ 1\n",
    "y′′ + (1 + x 2 ) y = − 1,\n",
    "ay′′ + (1 + bx 2 ) y = − 1\n",
    "− 1 ≤ x ≤ 1.\n",
    "\n",
    "### Исходные данные:\n",
    "a = sin(k), b = cos(k) , где k = 8.\n",
    "y(-1) = 0, y(1)=0"
   ]
  },
  {
   "cell_type": "code",
   "execution_count": 15,
   "metadata": {},
   "outputs": [],
   "source": [
    "%matplotlib inline\n",
    "import numpy as np\n",
    "import math\n",
    "import matplotlib\n",
    "import random\n",
    "from scipy.misc import derivative\n",
    "from scipy import integrate\n",
    "matplotlib.rc('figure', figsize=(12, 8))"
   ]
  },
  {
   "cell_type": "markdown",
   "metadata": {},
   "source": [
    "##  Метод разностных аппроксимаций"
   ]
  },
  {
   "cell_type": "code",
   "execution_count": 4,
   "metadata": {},
   "outputs": [],
   "source": [
    "def approx_method(n, a, b, y_a, y_b, f, p):\n",
    "    x = np.linspace(a, b, num=n + 1)\n",
    "    h = (b - a) / (n + 1)\n",
    "    a_s = [-1] * (n - 1)\n",
    "    c_s = [-(2 + h**2 * p(i)) for i in x[1:-1]]\n",
    "    b_s = [-1] * (n - 1)\n",
    "    f_s = [h ** 2 * f(i) for i in x[1:-1]]\n",
    "    A_s = [0, b_s[0] / c_s[0]]\n",
    "    B_s = [0, f_s[0] / c_s[0]]\n",
    "    \n",
    "    for i in range(1, n-2):\n",
    "        A_s.append(b_s[i] / (c_s[i] - a_s[i] * A_s[i]))\n",
    "        B_s.append((f_s[i] + a_s[i] * B_s[i]) / (c_s[i] - a_s[i] * A_s[i]))\n",
    "        \n",
    "    y = [y_b, (f_s[n - 4] + a_s[n - 4] * B_s[n - 4]) / (c_s[n - 4] - a_s[n - 4] * A_s[n - 4])]\n",
    "    \n",
    "    for (A, B) in list(zip(reversed(A_s), reversed(B_s)))[:-1]:\n",
    "        y.append(A * y[-1] + B)\n",
    "    \n",
    "    y.append(y_a)\n",
    "    y = list(reversed(y))\n",
    "    \n",
    "    return x, np.array(y)"
   ]
  },
  {
   "cell_type": "code",
   "execution_count": 20,
   "metadata": {},
   "outputs": [
    {
     "name": "stdout",
     "output_type": "stream",
     "text": [
      "8.72 ms ± 164 µs per loop (mean ± std. dev. of 7 runs, 100 loops each)\n"
     ]
    }
   ],
   "source": [
    "%%timeit\n",
    "x, y = approx_method(1000, -1, 1, 0, 0, lambda x: -1, lambda x: -(1 + x ** 2))"
   ]
  },
  {
   "cell_type": "code",
   "execution_count": 16,
   "metadata": {},
   "outputs": [
    {
     "data": {
      "text/plain": [
       "[<matplotlib.lines.Line2D at 0x7fbde8131f50>]"
      ]
     },
     "execution_count": 16,
     "metadata": {},
     "output_type": "execute_result"
    },
    {
     "data": {
      "image/png": "[encoded data removed]",
      "text/plain": [
       "<Figure size 432x288 with 1 Axes>"
      ]
     },
     "metadata": {
      "needs_background": "light"
     },
     "output_type": "display_data"
    }
   ],
   "source": [
    "matplotlib.pyplot.plot(x, y)"
   ]
  },
  {
   "cell_type": "code",
   "execution_count": 21,
   "metadata": {},
   "outputs": [
    {
     "name": "stdout",
     "output_type": "stream",
     "text": [
      "CPU times: user 13.2 ms, sys: 57 µs, total: 13.3 ms\n",
      "Wall time: 14.9 ms\n"
     ]
    }
   ],
   "source": [
    "%%time\n",
    "k = 8\n",
    "p = lambda x: -(1 + math.cos(k) * x**2) / math.sin(k)\n",
    "f = lambda x: -1 / math.sin(k)\n",
    "x1, y1 = approx_method(1000, -1, 1, 0, 0, f, p)"
   ]
  },
  {
   "cell_type": "code",
   "execution_count": 22,
   "metadata": {},
   "outputs": [
    {
     "data": {
      "text/plain": [
       "[<matplotlib.lines.Line2D at 0x7fbde794ba10>]"
      ]
     },
     "execution_count": 22,
     "metadata": {},
     "output_type": "execute_result"
    },
    {
     "data": {
      "image/png": "[encoded data removed]",
      "text/plain": [
       "<Figure size 432x288 with 1 Axes>"
      ]
     },
     "metadata": {
      "needs_background": "light"
     },
     "output_type": "display_data"
    }
   ],
   "source": [
    "matplotlib.pyplot.plot(x1, y1)"
   ]
  },
  {
   "cell_type": "code",
   "execution_count": null,
   "metadata": {},
   "outputs": [],
   "source": []
  }
 ],
 "metadata": {
  "kernelspec": {
   "display_name": "Python 3",
   "language": "python",
   "name": "python3"
  },
  "language_info": {
   "codemirror_mode": {
    "name": "ipython",
    "version": 3
   },
   "file_extension": ".py",
   "mimetype": "text/x-python",
   "name": "python",
   "nbconvert_exporter": "python",
   "pygments_lexer": "ipython3",
   "version": "3.7.5rc1"
  }
 },
 "nbformat": 4,
 "nbformat_minor": 2
}
