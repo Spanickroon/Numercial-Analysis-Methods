{
 "cells": [
  {
   "cell_type": "code",
   "execution_count": 10,
   "metadata": {},
   "outputs": [],
   "source": [
    "import numpy as np\n",
    "import math\n",
    "import matplotlib.pyplot as plt\n",
    "import scipy\n",
    "import scipy.integrate\n",
    "from sympy import *\n",
    "k = 8"
   ]
  },
  {
   "cell_type": "code",
   "execution_count": 11,
   "metadata": {},
   "outputs": [],
   "source": [
    "def q(x):\n",
    "    return 1 + x*x"
   ]
  },
  {
   "cell_type": "code",
   "execution_count": 12,
   "metadata": {},
   "outputs": [],
   "source": [
    "def f(x):    \n",
    "    return -1"
   ]
  },
  {
   "cell_type": "code",
   "execution_count": 13,
   "metadata": {},
   "outputs": [],
   "source": [
    "def _f_2(x):\n",
    "    return -1 / math.sin(k)"
   ]
  },
  {
   "cell_type": "code",
   "execution_count": 14,
   "metadata": {},
   "outputs": [],
   "source": [
    "def _q_2(x):\n",
    "    return -(1 + math.cos(k) * x * x) / math.sin(k)"
   ]
  },
  {
   "cell_type": "code",
   "execution_count": 15,
   "metadata": {},
   "outputs": [],
   "source": [
    "def basic_func(x, i, deriv = 0):\n",
    "    if deriv == 0:\n",
    "        return x**i * (1 - x*x)\n",
    "    elif deriv == 1:\n",
    "        return x**(i - 1) * (i - x * (i+1))\n",
    "    elif deriv == 2:\n",
    "        if i == 0:\n",
    "            return -2\n",
    "        elif i == 1:\n",
    "            return 2-6. * x\n",
    "        elif i == 2:\n",
    "            return 2 - 12*x*x\n",
    "        return x**(i-2) * ((i*i - i) - x*x * (i+1)*(i+2))"
   ]
  },
  {
   "cell_type": "code",
   "execution_count": 16,
   "metadata": {},
   "outputs": [],
   "source": [
    "def yn(x, C, n):\n",
    "    yn = 0\n",
    "    yn += basic_func(x,0,0)\n",
    "    for c,i in zip(C, range(n)):\n",
    "        yn += c*basic_func(x,i+1,0)        \n",
    "    return yn"
   ]
  },
  {
   "cell_type": "code",
   "execution_count": 17,
   "metadata": {},
   "outputs": [],
   "source": [
    "col_points = [-1,-1/2,-1/4,0,1/4,1/2,1]"
   ]
  },
  {
   "cell_type": "code",
   "execution_count": 18,
   "metadata": {},
   "outputs": [],
   "source": [
    "n = 7"
   ]
  },
  {
   "cell_type": "code",
   "execution_count": 19,
   "metadata": {},
   "outputs": [],
   "source": [
    "M1 = [[basic_func(x,j+1,2) + q(x)*basic_func(x,j+1,0)\n",
    "       for j in range(n)] for x in col_points]\n",
    "V1 = [f(x) - (basic_func(x,0,2)+q(x)*basic_func(x,0,0))\n",
    "     for x in col_points]"
   ]
  },
  {
   "cell_type": "code",
   "execution_count": 20,
   "metadata": {},
   "outputs": [],
   "source": [
    "C1 = np.linalg.solve(M1,V1)"
   ]
  },
  {
   "cell_type": "code",
   "execution_count": 21,
   "metadata": {},
   "outputs": [
    {
     "name": "stdout",
     "output_type": "stream",
     "text": [
      "CPU times: user 78.3 ms, sys: 1.71 ms, total: 80 ms\n",
      "Wall time: 78 ms\n"
     ]
    }
   ],
   "source": [
    "%%time\n",
    "col_points = np.linspace(-1, 1, 100,endpoint = True)\n",
    "n = 100\n",
    "M1 = [[basic_func(x,j+1,2) + q(x)*basic_func(x,j+1,0)\n",
    "       for j in range(n)] for x in col_points]\n",
    "V1 = [f(x) - (basic_func(x,0,2)+q(x)*basic_func(x,0,0))\n",
    "     for x in col_points]\n",
    "C1 = np.linalg.solve(M1,V1)\n",
    "#_x = Symbol('x')\n",
    "#_y = yn(-1,C1,n)"
   ]
  },
  {
   "cell_type": "code",
   "execution_count": 22,
   "metadata": {},
   "outputs": [
    {
     "data": {
      "text/plain": [
       "[<matplotlib.lines.Line2D at 0x7f2b9da63e50>]"
      ]
     },
     "execution_count": 22,
     "metadata": {},
     "output_type": "execute_result"
    },
    {
     "data": {
      "image/png": "[encoded data removed]",
      "text/plain": [
       "<Figure size 432x288 with 1 Axes>"
      ]
     },
     "metadata": {
      "needs_background": "light"
     },
     "output_type": "display_data"
    }
   ],
   "source": [
    "mas = []\n",
    "X = np.linspace(-1,1,100,endpoint = True)\n",
    "for x in X:\n",
    "    mas.append(yn(x,C1,n))\n",
    "plt.plot(X,mas)"
   ]
  },
  {
   "cell_type": "markdown",
   "metadata": {},
   "source": [
    "# Метод коолокации"
   ]
  },
  {
   "cell_type": "markdown",
   "metadata": {},
   "source": [
    " "
   ]
  },
  {
   "cell_type": "code",
   "execution_count": 24,
   "metadata": {},
   "outputs": [],
   "source": [
    "n = 100\n",
    "M = [[scipy.integrate.quad(\n",
    "    lambda x:\n",
    "    (basic_func(x, j, 2) + q(x)*basic_func(x, j, 0))*(basic_func(x, i, 2) + q(x)*basic_func(x, i, 0)),-1,1)[0]\n",
    "     for j in range(n)] for i in range(n)]"
   ]
  },
  {
   "cell_type": "code",
   "execution_count": 25,
   "metadata": {},
   "outputs": [],
   "source": [
    "V = [scipy.integrate.quad(\n",
    "    lambda x:\n",
    "    f(x)*(basic_func(x,i,2) + q(x)*basic_func(x,i,0)),-1,1)[0]\n",
    "    for i in range(n)]"
   ]
  },
  {
   "cell_type": "code",
   "execution_count": 26,
   "metadata": {},
   "outputs": [
    {
     "name": "stdout",
     "output_type": "stream",
     "text": [
      "CPU times: user 7.94 s, sys: 546 ms, total: 8.49 s\n",
      "Wall time: 7.75 s\n"
     ]
    }
   ],
   "source": [
    "%%time\n",
    "n = 100\n",
    "M = [[scipy.integrate.quad(\n",
    "    lambda x:\n",
    "    (basic_func(x, j, 2) + q(x)*basic_func(x, j, 0))*(basic_func(x, i, 2) + q(x)*basic_func(x, i, 0)),-1,1)[0]\n",
    "     for j in range(n)] for i in range(n)]\n",
    "V = [scipy.integrate.quad(\n",
    "    lambda x:\n",
    "    f(x)*(basic_func(x,i,2) + q(x)*basic_func(x,i,0)),-1,1)[0]\n",
    "    for i in range(n)]\n",
    "C2 = np.linalg.solve(M,V)\n",
    "_x = Symbol('x')\n",
    "_y1 = yn(_x,C2,n)"
   ]
  },
  {
   "cell_type": "code",
   "execution_count": 27,
   "metadata": {},
   "outputs": [
    {
     "data": {
      "text/plain": [
       "[<matplotlib.lines.Line2D at 0x7f2b9d046f90>]"
      ]
     },
     "execution_count": 27,
     "metadata": {},
     "output_type": "execute_result"
    },
    {
     "data": {
      "image/png": "[encoded data removed]",
      "text/plain": [
       "<Figure size 432x288 with 1 Axes>"
      ]
     },
     "metadata": {
      "needs_background": "light"
     },
     "output_type": "display_data"
    }
   ],
   "source": [
    "r = np.linspace(-1, 1, 100,endpoint = True)\n",
    "mas1 = []\n",
    "for x in r:\n",
    "    mas1.append(yn(x,C1,n))\n",
    "plt.plot(r,mas1)"
   ]
  },
  {
   "cell_type": "markdown",
   "metadata": {},
   "source": [
    "# МНК"
   ]
  },
  {
   "cell_type": "code",
   "execution_count": 29,
   "metadata": {},
   "outputs": [],
   "source": [
    "n = 100\n",
    "M2 = [[scipy.integrate.quad(\n",
    "     lambda x:\n",
    "     (basic_func(x, j+1, 2) + q(x)*basic_func(x, j+1, 0))*basic_func(x,i+1,0),-1,1)[0]\n",
    "     for j in range(n)]for i in range(n)]\n"
   ]
  },
  {
   "cell_type": "code",
   "execution_count": 30,
   "metadata": {},
   "outputs": [
    {
     "name": "stdout",
     "output_type": "stream",
     "text": [
      "CPU times: user 5.01 s, sys: 14.2 ms, total: 5.02 s\n",
      "Wall time: 5.01 s\n"
     ]
    },
    {
     "data": {
      "text/plain": [
       "0.0"
      ]
     },
     "execution_count": 30,
     "metadata": {},
     "output_type": "execute_result"
    }
   ],
   "source": [
    "%%time\n",
    "n = 100\n",
    "M2 = [[scipy.integrate.quad(\n",
    "     lambda x:\n",
    "     (basic_func(x, j+1, 2) + q(x)*basic_func(x, j+1, 0))*basic_func(x,i+1,0),-1,1)[0]\n",
    "     for j in range(n)]for i in range(n)]\n",
    "V2 = [scipy.integrate.quad(\n",
    "     lambda x:\n",
    "     -basic_func(x,i+1,0)*(basic_func(x,0,2)+q(x)*basic_func(x,0,0)-f(x)),-1,1)[0]\n",
    "     for i in range(n)]\n",
    "C3 = np.linalg.solve(M2,V2)\n",
    "yn(-1,C3,n)"
   ]
  },
  {
   "cell_type": "code",
   "execution_count": 32,
   "metadata": {},
   "outputs": [
    {
     "data": {
      "text/plain": [
       "0.0"
      ]
     },
     "execution_count": 32,
     "metadata": {},
     "output_type": "execute_result"
    }
   ],
   "source": [
    "yn(-1,C3,n)"
   ]
  },
  {
   "cell_type": "code",
   "execution_count": 33,
   "metadata": {},
   "outputs": [
    {
     "data": {
      "text/plain": [
       "[<matplotlib.lines.Line2D at 0x7f2b9cf5d290>]"
      ]
     },
     "execution_count": 33,
     "metadata": {},
     "output_type": "execute_result"
    },
    {
     "data": {
      "image/png": "[encoded data removed]",
      "text/plain": [
       "<Figure size 432x288 with 1 Axes>"
      ]
     },
     "metadata": {
      "needs_background": "light"
     },
     "output_type": "display_data"
    }
   ],
   "source": [
    "r2 = np.linspace(-1, 1, 100,endpoint = True)\n",
    "mas2 = []\n",
    "for x in r2:\n",
    "    mas2.append(yn(x,C1,n))\n",
    "plt.plot(r2,mas2)"
   ]
  },
  {
   "cell_type": "markdown",
   "metadata": {},
   "source": [
    "# Галеркина"
   ]
  },
  {
   "cell_type": "code",
   "execution_count": 56,
   "metadata": {},
   "outputs": [
    {
     "data": {
      "text/plain": [
       "[<matplotlib.lines.Line2D at 0x7f2b9cc9b490>]"
      ]
     },
     "execution_count": 56,
     "metadata": {},
     "output_type": "execute_result"
    },
    {
     "data": {
      "image/png": "[encoded data removed]",
      "text/plain": [
       "<Figure size 432x288 with 1 Axes>"
      ]
     },
     "metadata": {
      "needs_background": "light"
     },
     "output_type": "display_data"
    }
   ],
   "source": [
    "col_points4 = [-1,-1/2,-1/4,0,1/4,1/2,1]\n",
    "n = 7\n",
    "M4 = [[basic_func(x,j+1,2) + _q_2(x)*basic_func(x,j+1,0) \n",
    "       for j in range(n)] for x in col_points]\n",
    "V4 = [_f_2(x) - (basic_func(x,0,2)+_q_2(x)*basic_func(x,0,0))\n",
    "     for x in col_points]\n",
    "C4 = np.linalg.solve(M2,V4)\n",
    "mas4 = []\n",
    "for x in col_points4:\n",
    "    mas4.append(yn(x,C1,n))\n",
    "plt.plot(col_points4,mas4)"
   ]
  },
  {
   "cell_type": "code",
   "execution_count": 37,
   "metadata": {},
   "outputs": [
    {
     "data": {
      "text/plain": [
       "[<matplotlib.lines.Line2D at 0x7f2b9cef1850>]"
      ]
     },
     "execution_count": 37,
     "metadata": {},
     "output_type": "execute_result"
    },
    {
     "data": {
      "image/png": "[encoded data removed]",
      "text/plain": [
       "<Figure size 432x288 with 1 Axes>"
      ]
     },
     "metadata": {
      "needs_background": "light"
     },
     "output_type": "display_data"
    }
   ],
   "source": [
    "n = 100\n",
    "M5 = [[scipy.integrate.quad(\n",
    "    lambda x:\n",
    "    (basic_func(x, j, 2) + _q_2(x)*basic_func(x, j, 0))*(basic_func(x, i, 2) + _q_2(x)*basic_func(x, i, 0)),-1,1)[0]\n",
    "     for j in range(n)] for i in range(n)]\n",
    "V5 = [scipy.integrate.quad(\n",
    "    lambda x:\n",
    "    _f_2(x)*(basic_func(x,i,2) + _q_2(x)*basic_func(x,i,0)),-1,1)[0]\n",
    "    for i in range(n)]\n",
    "C5 = np.linalg.solve(M5,V5)\n",
    "r5 = np.linspace(-1, 1, 100,endpoint = True)\n",
    "mas5 = []\n",
    "for x in r5:\n",
    "    mas5.append(yn(x,C1,n))\n",
    "plt.plot(r5,mas5)"
   ]
  },
  {
   "cell_type": "code",
   "execution_count": 27,
   "metadata": {},
   "outputs": [
    {
     "data": {
      "text/plain": [
       "[<matplotlib.lines.Line2D at 0x1d99f566a90>]"
      ]
     },
     "execution_count": 27,
     "metadata": {},
     "output_type": "execute_result"
    },
    {
     "data": {
      "image/png": "[encoded data removed]",
      "text/plain": [
       "<Figure size 432x288 with 1 Axes>"
      ]
     },
     "metadata": {
      "needs_background": "light"
     },
     "output_type": "display_data"
    }
   ],
   "source": [
    "n = 100\n",
    "M6 = [[scipy.integrate.quad(\n",
    "     lambda x:\n",
    "     (basic_func(x, j+1, 2) + _q_2(x)*basic_func(x, j+1, 0))*basic_func(x,i+1,0),-1,1)[0]\n",
    "     for j in range(n)]for i in range(n)]\n",
    "V6 = [scipy.integrate.quad(\n",
    "     lambda x:\n",
    "     -basic_func(x,i+1,0)*(basic_func(x,0,2)+_q_2(x)*basic_func(x,0,0)-_f_2(x)),-1,1)[0]\n",
    "     for i in range(n)]\n",
    "C6 = np.linalg.solve(M6,V6)\n",
    "r6 = np.linspace(-1, 1, 100,endpoint = True)\n",
    "mas6 = []\n",
    "for x in r6:\n",
    "    mas6.append(yn(x,C1,n))\n",
    "plt.plot(r6,mas6)"
   ]
  },
  {
   "cell_type": "code",
   "execution_count": null,
   "metadata": {},
   "outputs": [],
   "source": []
  }
 ],
 "metadata": {
  "kernelspec": {
   "display_name": "Python 3",
   "language": "python",
   "name": "python3"
  },
  "language_info": {
   "codemirror_mode": {
    "name": "ipython",
    "version": 3
   },
   "file_extension": ".py",
   "mimetype": "text/x-python",
   "name": "python",
   "nbconvert_exporter": "python",
   "pygments_lexer": "ipython3",
   "version": "3.7.5"
  }
 },
 "nbformat": 4,
 "nbformat_minor": 2
}
